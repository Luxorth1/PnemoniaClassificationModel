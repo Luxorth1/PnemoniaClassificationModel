{
 "cells": [
  {
   "cell_type": "markdown",
   "metadata": {},
   "source": [
    "### Module 4 Project | Image Classification Algorithm | X-Ray Imaging to Detect Pneumonia Case\n",
    "\n",
    "#### Goal\n",
    "\n",
    "The goal is to create a machine learning algorithm that will successfully classify images into 2 categories.\n",
    "\n",
    "* Positive for Pneumonia\n",
    "* Negative for Pneumonia\n",
    "\n",
    "The metric of success for this will be a high (INSERT METRIC FOUND) score. \n",
    "\n",
    "#### Methodology\n",
    "\n",
    "The methodology that will be used for this project will be the OSEMN Methodology. I will outline the methodology below.\n",
    "\n",
    "* Obtain: Gather data from relevant sources\n",
    "* Scrub: Clean data to formats that machine understands\n",
    "* Explore: Find significant patterns and trends using statistical methods\n",
    "* Model: Construct models to predict and forecast\n",
    "* iNterpret: Put results into good use\n",
    "\n",
    "#### Data\n",
    "\n",
    "This will be our Obtain step in our OSEMN as we did not need to do much data mining for this data set.\n",
    "\n",
    "Our data was obtained from [Here](https://data.mendeley.com/datasets/rscbjbr9sj/3) which is a dataset of thousands of chest x-ray images from both patients who have pnemonia and who do not. This labeled data will allow us to create a classification machine in order to determine whether a patient has a case of pnemonia based of a chest x-ray."
   ]
  },
  {
   "cell_type": "markdown",
   "metadata": {},
   "source": [
    "### Scrub\n",
    "\n",
    "Here we will load the data, and begin to format it into the required format for our machine to understand it. "
   ]
  },
  {
   "cell_type": "markdown",
   "metadata": {},
   "source": [
    "### Explore\n",
    "\n",
    "This stage we will take a look into our data and see if we can notice anything. However the difficulty we will have here is that our data is in an image format, it could prove difficult to apply proper EDA to this data set."
   ]
  },
  {
   "cell_type": "markdown",
   "metadata": {},
   "source": [
    "### Model\n",
    "\n",
    "This is where we get into the meat and potatoes of our analysis. We will begin to test different algorithms in order to maximize the performance of our model. "
   ]
  },
  {
   "cell_type": "markdown",
   "metadata": {},
   "source": [
    "### iNterpret\n",
    "\n",
    "Here we will begin to take a look ar our results. Understand what they mean, and how we can apply our outcome to larger datasets, and begin to look into productionizing our model."
   ]
  },
  {
   "cell_type": "code",
   "execution_count": null,
   "metadata": {},
   "outputs": [],
   "source": []
  }
 ],
 "metadata": {
  "kernelspec": {
   "display_name": "learn-env",
   "language": "python",
   "name": "learn-env"
  },
  "language_info": {
   "codemirror_mode": {
    "name": "ipython",
    "version": 3
   },
   "file_extension": ".py",
   "mimetype": "text/x-python",
   "name": "python",
   "nbconvert_exporter": "python",
   "pygments_lexer": "ipython3",
   "version": "3.6.9"
  }
 },
 "nbformat": 4,
 "nbformat_minor": 2
}
